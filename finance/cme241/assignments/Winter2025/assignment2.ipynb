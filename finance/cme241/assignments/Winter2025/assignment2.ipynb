{
 "cells": [
  {
   "cell_type": "markdown",
   "metadata": {},
   "source": [
    "# Stanford CME 241 (Winter 2025) - Assignment 2\n",
    "\n",
    "**Due: Tuesday, February 4 @ 11:59 PM PST on Gradescope.**\n",
    "\n",
    "Assignment instructions:\n",
    "- Make sure each of the subquestions have answers\n",
    "- Ensure that group members indicate which problems they're in charge of\n",
    "- Show work and walk through your thought process where applicable\n",
    "- Empty code blocks are for your use, so feel free to create more under each section as needed\n",
    "- Document code with light comments (i.e. 'this function handles visualization')\n",
    "\n",
    "Submission instructions:\n",
    "- When complete, fill out your publicly available GitHub repo file URL and group members below, then export or print this .ipynb file to PDF and upload the PDF to Gradescope.\n",
    "\n",
    "*Link to this ipynb file in your public GitHub repo (replace below URL with yours):* \n",
    "\n",
    "https://github.com/my-username/my-repo/assignment-file-name.ipynb\n",
    "\n",
    "*Group members (replace below names with people in your group):* \n",
    "- Person 1\n",
    "- Person 2\n",
    "- Person 3"
   ]
  },
  {
   "cell_type": "markdown",
   "metadata": {},
   "source": [
    "## Imports"
   ]
  },
  {
   "cell_type": "code",
   "execution_count": 20,
   "metadata": {},
   "outputs": [],
   "source": [
    "import numpy as np\n",
    "import matplotlib.pyplot as plt"
   ]
  },
  {
   "cell_type": "markdown",
   "metadata": {},
   "source": [
    "## Question 1: Job-Hopping and Wages-Utility-Maximization (Led by ______)\n",
    "\n",
    "You are a worker who starts every day either employed or unemployed. If you start your day employed, you work on your job for the day (one of $n$ jobs, as elaborated later) and you get to earn the wage of the job for the day. However, at the end of the day, you could lose your job with probability $\\alpha \\in [0,1]$, in which case you start the next day unemployed. If at the end of the day, you do not lose your job (with probability $1-\\alpha$), then you will start the next day with the same job (and hence, the same daily wage). \n",
    "\n",
    "On the other hand, if you start your day unemployed, then you will be randomly offered one of $n$ jobs with daily wages $w_1, w_2, \\ldots w_n \\in \\mathbb{R}^+$ with respective job-offer probabilities $p_1, p_2, \\ldots p_n \\in [0,1]$ (with $\\sum_{i=1}^n p_i = 1$). You can choose to either accept or decline the offered job. If you accept the job offer, your day progresses exactly like the **employed-day** described above (earning the day's job wage and possibly (with probability $\\alpha$) losing the job at the end of the day). However, if you decline the job offer, you spend the day unemployed, receive the unemployment wage $w_0 \\in \\mathbb{R}^+$ for the day, and start the next day unemployed.\n",
    "\n",
    "The problem is to identify the optimal choice of accepting or rejecting any of the job offers the worker receives, in a manner that maximizes the infinite-horizon **Expected Discounted-Sum of Wages Utility**. Assume the daily discount factor for wages (employed or unemployed) is $\\gamma \\in [0,1])$. Assume Wages Utility function to be $U(w) = \\log(w)$ for any wage amount $w \\in \\mathbb{R}^+$. The goal is to maximize:\n",
    "\n",
    "$$\n",
    "\\mathbb{E}\\left[\\sum_{u=t}^\\infty \\gamma^{u-t} \\cdot \\log(w_{i_u})\\right]\n",
    "$$\n",
    "\n",
    "at the start of a given day $t$ ($w_{i_u}$ is the wage earned on day $u$, $0 \\leq i_u \\leq n$ for all $u \\geq t$).\n",
    "\n",
    "---\n",
    "\n",
    "### Subquestions\n",
    "\n",
    "#### Part (A): MDP Modeling\n",
    "\n",
    "Express the job-hopping problem as an MDP using clear mathematical notation by defining the following components:\n",
    "\n",
    "1. **State Space**: Define the possible states of the MDP.\n",
    "2. **Action Space**: Specify the actions available to the worker at each state.\n",
    "3. **Transition Function**: Describe the probabilities of transitioning between states for each action.\n",
    "4. **Reward Function**: Specify the reward associated with the states and transitions.\n",
    "5. **Bellman Optimality Equation**: Write the Bellman Optimality Equation customized for this MDP.\n",
    "\n",
    "---\n",
    "\n",
    "#### Part (B): Python Implementation\n",
    "\n",
    "Write Python code that:\n",
    "\n",
    "1. Solves the Bellman Optimality Equation (hence, solves for the **Optimal Value Function** and the **Optimal Policy**) with a numerical iterative algorithm. \n",
    "2. Clearly define the inputs and outputs of your algorithm with their types (`int`, `float`, `List`, `Mapping`, etc.).\n",
    "\n",
    "*Note*: For this problem, write the algorithm from scratch without using any prebuilt MDP/DP libraries or code.\n",
    "\n",
    "---\n",
    "\n",
    "#### Part (C): Visualization and Analysis\n",
    "\n",
    "1. Plot the **Optimal Value Function** as a function of the state for a specific set of parameters ($n$, $w_1, \\ldots, w_n$, $p_1, \\ldots, p_n$, $\\alpha$, $\\gamma$, $w_0$).\n",
    "2. Include these graphs in your submission.\n",
    "\n",
    "---\n",
    "\n",
    "#### Part (D): Observations\n",
    "\n",
    "1. What patterns do you observe in the **Optimal Policy** as you vary the parameters $n$, $\\alpha$, and $\\gamma$?\n",
    "2. Provide a brief discussion of your findings.\n",
    "\n",
    "---"
   ]
  },
  {
   "cell_type": "markdown",
   "metadata": {},
   "source": [
    "### Part (A) Answer\n",
    "\n",
    "<span style=\"color:red\">*fill in*</span>"
   ]
  },
  {
   "cell_type": "markdown",
   "metadata": {},
   "source": [
    "### Part (B) Answer"
   ]
  },
  {
   "cell_type": "code",
   "execution_count": 7,
   "metadata": {},
   "outputs": [],
   "source": [
    "# fill in with Python code"
   ]
  },
  {
   "cell_type": "markdown",
   "metadata": {},
   "source": [
    "### Part (C) Answer\n",
    "\n",
    "<span style=\"color:red\">*fill in*</span>"
   ]
  },
  {
   "cell_type": "markdown",
   "metadata": {},
   "source": [
    "### Part (D) Answer\n",
    "\n",
    "<span style=\"color:red\">*fill in*</span>"
   ]
  },
  {
   "cell_type": "markdown",
   "metadata": {},
   "source": [
    "## Question 2: Two-Stores Inventory Control (Led by ______)\n",
    "\n",
    "We extend the capacity-constrained inventory example implemented in [rl/chapter3/simple_inventory_mdp_cap.py](https://github.com/TikhonJelvis/RL-book/blob/master/rl/chapter3/simple_inventory_mdp_cap.py) as a `FiniteMarkovDecisionProcess` (the Finite MDP model for the capacity-constrained inventory example is described in detail in Chapters 1 and 2 of the RLForFinanceBook). Here we assume that we have two different stores, each with their own separate capacities $C_1$ and $C_2$, their own separate Poisson probability distributions of demand (with means $\\lambda_1$ and $\\lambda_2$), their own separate holding costs $h_1$ and $h_2$, and their own separate stockout costs $p_1$ and $p_2$. At 6pm upon stores closing each evening, each store can choose to order inventory from a common supplier (as usual, ordered inventory will arrive at the store 36 hours later). We are also allowed to transfer inventory from one store to another, and any such transfer happens overnight, i.e., will arrive by 6am next morning (since the stores are fairly close to each other). Note that the orders are constrained such that following the orders on each evening, each store's inventory position (sum of on-hand inventory and on-order inventory) cannot exceed the store's capacity (this means the action space is constrained to be finite). Each order made to the supplier incurs a fixed transportation cost of $K_1$ (fixed-cost means the cost is the same no matter how many units of non-zero inventory a particular store orders). Moving any non-zero inventory between the two stores incurs a fixed transportation cost of $K_2$. \n",
    "\n",
    "Model this as a derived class of `FiniteMarkovDecisionProcess` much like we did for `SimpleInventoryMDPCap` in the code repo. Set up instances of this derived class for different choices of the problem parameters (capacities, costs etc.), and determine the Optimal Value Function and Optimal Policy by invoking the function `value_iteration` (or `policy_iteration`) from file [rl/dynamic_programming.py](https://github.com/TikhonJelvis/RL-book/blob/master/rl/dynamic_programming.py).\n",
    "\n",
    "Analyze the obtained Optimal Policy and verify that it makes intuitive sense as a function of the problem parameters."
   ]
  },
  {
   "cell_type": "code",
   "execution_count": null,
   "metadata": {},
   "outputs": [],
   "source": [
    "# fill in with Python code"
   ]
  },
  {
   "cell_type": "markdown",
   "metadata": {},
   "source": [
    "## Question 3: Dynamic Price Optimization (Led by ______)\n",
    "\n",
    "You own a supermarket, and you are $T$ days away from Halloween 🎃. You have just received $M$ Halloween masks from your supplier. You want to dynamically set the selling price of the Halloween masks at the start of each day in a manner that maximizes your **Expected Total Sales Revenue** for Halloween masks this season (assume no one will buy Halloween masks after Halloween).\n",
    "\n",
    "Assume that for each of the $T$ days, you are required to select a price for that day from one of $N$ prices $p_1, p_2, \\dots, p_N \\in \\mathbb{R}$, and that price is the selling price for all masks on that day. Assume that the customer demand for the number of Halloween masks on any day is governed by a Poisson probability distribution with mean $\\lambda_i \\in \\mathbb{R}$ if you select that day’s price to be $p_i$ (where $i$ is a choice among $1, 2, \\dots, N$).\n",
    "\n",
    "Note that on any given day, the demand could exceed the number of Halloween masks you have in the store, in which case the number of masks sold on that day will be equal to the number of Halloween masks you had at the start of that day.\n",
    "\n",
    "We spoke about this example in class - referencing the slides here (if needed) could be helpful!\n",
    "\n",
    "---\n",
    "\n",
    "### Subquestions\n",
    "\n",
    "#### Part (A): Bellman Optimality Equation\n",
    "\n",
    "Write the **Bellman Optimality Equation** customized to this Markov Decision Process (MDP). Essentially, you need to express the **Optimal Value Function** $v_*$ recursively based on taking the best action in the current state and based on the subsequent random customer demand that would produce the appropriate reward and take you to the next state.\n",
    "\n",
    "**Note**: The probability mass function of a Poisson distribution with mean $\\lambda \\in \\mathbb{R}$ is given by:\n",
    "\n",
    "$$\n",
    "f(k) = \\frac{e^{-\\lambda} \\lambda^k}{k!}, \\quad k = 0, 1, 2, \\dots\n",
    "$$\n",
    "\n",
    "---\n",
    "\n",
    "#### Part (B): Boundary Conditions\n",
    "\n",
    "To be able to solve the $v_*$ recursion, you need to know the values of $v_*$ for the boundary case (boundary states). Write down the boundary case(s) for the $v_*$ recursion.\n",
    "\n",
    "---\n",
    "\n",
    "#### Part (C): Numerical Solution\n",
    "\n",
    "You can solve this $v_*$ recursion (hence, solve for the **Optimal Policy** $\\pi_*$) with a numerical recursive algorithm (essentially a special form of Dynamic Programming algorithm customized to this problem). \n",
    "\n",
    "Write Python code for this algorithm that would enable you to dynamically set the selling price at the start of each day. Clearly define the inputs and outputs of your algorithm with their types (`int`, `float`, `List`, `Mapping`, etc.).\n",
    "\n",
    "---\n"
   ]
  },
  {
   "cell_type": "markdown",
   "metadata": {},
   "source": [
    "### Part (A) Answer\n",
    "\n",
    "<span style=\"color:red\">*fill in*</span>"
   ]
  },
  {
   "cell_type": "markdown",
   "metadata": {},
   "source": [
    "### Part (B) Answer\n",
    "\n",
    "<span style=\"color:red\">*fill in*</span>"
   ]
  },
  {
   "cell_type": "markdown",
   "metadata": {},
   "source": [
    "### Part (C) Answer"
   ]
  },
  {
   "cell_type": "code",
   "execution_count": 3,
   "metadata": {},
   "outputs": [],
   "source": [
    "# fill in with Python code"
   ]
  },
  {
   "cell_type": "markdown",
   "metadata": {},
   "source": [
    "## Question 4: Risk-Aversion and Utility Optimization under CARA Utility (Led by ______)\n",
    "\n",
    "You are tasked with analyzing the behavior of an investor who seeks to maximize their utility under **CARA Utility**. The investor has wealth $W$ and the CARA utility function:\n",
    "\n",
    "$$\n",
    "U(W) = \\frac{1 - e^{-aW}}{a}, \\quad a > 0,\n",
    "$$\n",
    "\n",
    "where $a$ represents the investor's **risk aversion**.\n",
    "\n",
    "The investor allocates their wealth between:\n",
    "1. A **riskless asset** with a fixed return $r$, and\n",
    "2. A **risky asset** with return $R \\sim \\mathcal{N}(\\mu, \\sigma^2)$\n",
    "\n",
    "The investor allocates a fraction $\\pi$ of their wealth to the risky asset and $(1 - \\pi)$ to the riskless asset. The wealth $W$ after one year is given by:\n",
    "\n",
    "$$\n",
    "W = (1 + r)(1 - \\pi) + (1 + R)\\pi.\n",
    "$$\n",
    "\n",
    "The goal is to analyze the investor’s optimal allocation $\\pi$ to the risky asset and compute key risk-related quantities.\n",
    "\n",
    "---\n",
    "\n",
    "### Subquestions\n",
    "\n",
    "#### Part (A): Expected Utility and Certainty-Equivalent Wealth\n",
    "\n",
    "1. Derive the expression for the **expected utility** $\\mathbb{E}[U(W)]$, using the given CARA utility function and assuming $R \\sim \\mathcal{N}(\\mu, \\sigma^2)$.\n",
    "2. Using a Taylor expansion, approximate the **certainty-equivalent wealth** $W_{CE}$ up to second-order terms.\n",
    "\n",
    "---\n",
    "\n",
    "#### Part (B): Optimal Portfolio Allocation\n",
    "\n",
    "Derive the optimal fraction $\\pi^*$ of wealth to be allocated to the risky asset such that the **expected utility** $\\mathbb{E}[U(W)]$ is maximized. Express $\\pi^*$ in terms of $a$, $\\mu$, $r$, and $\\sigma^2$.\n",
    "\n",
    "---\n",
    "\n",
    "#### Part (C): Risk Premium\n",
    "\n",
    "1. Using the results from Part (A), calculate the **absolute risk premium** $\\pi_A = \\mathbb{E}[W] - W_{CE}$.\n",
    "2. Verify that $\\pi_A \\approx \\frac{a \\pi^2 \\sigma^2}{2}$ for small $\\sigma^2$.\n",
    "\n",
    "---\n",
    "\n",
    "#### Part (D): Numerical Calculations and Interpretation\n",
    "\n",
    "Given the parameters $r = 0.02$, $\\mu = 0.08$, $\\sigma^2 = 0.04$, and $a = 3$:\n",
    "1. Compute the optimal allocation $\\pi^*$.\n",
    "2. Calculate the certainty-equivalent wealth $W_{CE}$.\n",
    "3. Compute the absolute risk premium $\\pi_A$.\n",
    "4. Interpret the results and discuss how changes in $a$ and $\\sigma^2$ affect the risk premium and portfolio allocation.\n",
    "\n",
    "---\n",
    "\n",
    "#### Part (E): Expected Utility under Uniform Distribution\n",
    "\n",
    "Now assume that the return of the risky asset, $R$, is no longer normally distributed. Instead, $R \\sim \\text{Uniform}[\\alpha, \\beta]$, where $\\alpha$ and $\\beta$ are the lower and upper bounds of the distribution, respectively.\n",
    "\n",
    "1. Derive the new expression for the **expected utility** $\\mathbb{E}[U(W)]$. Make sure to simplify your result as much as possible, and ensure that it explicitly depends on $a$, $\\pi$, $\\alpha$, $\\beta$, and $r$.\n",
    "\n",
    "**Hint**: Use the fact that if $W \\sim \\text{Uniform}[w_{\\text{min}}, w_{\\text{max}}]$, then:\n",
    "\n",
    "$$\n",
    "\\mathbb{E}[g(W)] = \\frac{1}{w_{\\text{max}} - w_{\\text{min}}} \\int_{w_{\\text{min}}}^{w_{\\text{max}}} g(W) \\, dW.\n",
    "$$\n",
    "\n",
    "---"
   ]
  },
  {
   "cell_type": "markdown",
   "metadata": {},
   "source": [
    "### Part (A) Answer\n",
    "\n",
    "<span style=\"color:red\">*fill in*</span>"
   ]
  },
  {
   "cell_type": "markdown",
   "metadata": {},
   "source": [
    "### Part (B) Answer\n",
    "\n",
    "<span style=\"color:red\">*fill in*</span>"
   ]
  },
  {
   "cell_type": "markdown",
   "metadata": {},
   "source": [
    "### Part (C) Answer\n",
    "\n",
    "<span style=\"color:red\">*fill in*</span>"
   ]
  },
  {
   "cell_type": "markdown",
   "metadata": {},
   "source": [
    "### Part (D) Answer\n",
    "\n",
    "<span style=\"color:red\">*fill in*</span>"
   ]
  },
  {
   "cell_type": "markdown",
   "metadata": {},
   "source": [
    "### Part (E) Answer\n",
    "\n",
    "<span style=\"color:red\">*fill in*</span>"
   ]
  },
  {
   "cell_type": "markdown",
   "metadata": {},
   "source": [
    "## Question 5: Feeding Animals in a Zoo using Approximate Dynamic Programming (Led by ______)\n",
    "\n",
    "You are tasked with developing a feeding strategy for a zoo using **Approximate Dynamic Programming (ADP)**. The zoo has a finite amount of food available each day, and you must distribute this food among a group of animals to maximize their overall satisfaction over a fixed time horizon $T$. \n",
    "\n",
    "Each animal has:\n",
    "1. A **hunger level** $h_i(t) \\in \\mathbb{R}$ at time $t$, which increases as time passes without food and decreases when food is provided.\n",
    "2. A **satisfaction function** $u_i(f) = \\log(1 + f)$, where $f$ is the amount of food given to the animal. Satisfaction increases logarithmically with food.\n",
    "\n",
    "You start each day with a total amount of food $F$ that you can distribute to the animals. The objective is to maximize the **cumulative satisfaction** of all animals over $T$ days while considering that food is finite and hunger levels evolve dynamically.\n",
    "\n",
    "---\n",
    "\n",
    "### Problem Dynamics:\n",
    "1. **State**:\n",
    "   - The state at time $t$ is the vector of hunger levels of all animals: $\\mathbf{h}(t) = [h_1(t), h_2(t), \\dots, h_N(t)]$, where $N$ is the number of animals.\n",
    "\n",
    "2. **Action**:\n",
    "   - The action $\\mathbf{f}(t) = [f_1(t), f_2(t), \\dots, f_N(t)]$ represents the food allocated to each animal, subject to the constraint:\n",
    "     $$\n",
    "     \\sum_{i=1}^N f_i(t) \\leq F.\n",
    "     $$\n",
    "\n",
    "3. **State Transition**:\n",
    "   - Hunger levels evolve according to the dynamics:\n",
    "     $$\n",
    "     h_i(t+1) = \\max(0, h_i(t) + \\gamma - \\delta f_i(t)),\n",
    "     $$\n",
    "     where $\\gamma$ is the natural rate at which an animal's hunger increases, and $\\delta$ is the rate at which feeding reduces hunger.\n",
    "\n",
    "4. **Reward**:\n",
    "   - The reward at each time step is the total satisfaction of all animals:\n",
    "     $$\n",
    "     r(\\mathbf{h}(t), \\mathbf{f}(t)) = \\sum_{i=1}^N \\log(1 + f_i(t)).\n",
    "     $$\n",
    "\n",
    "5. **Value Function Approximation**:\n",
    "   - Use a **linear function approximation** for the value function:\n",
    "     $$\n",
    "     V(\\mathbf{h}(t); \\mathbf{w}) = \\mathbf{w}^\\top \\phi(\\mathbf{h}(t)),\n",
    "     $$\n",
    "     where $\\phi(\\mathbf{h}(t))$ is a feature vector derived from the state, and $\\mathbf{w}$ is a weight vector learned during training.\n",
    "\n",
    "6. **Objective**:\n",
    "   - Use **Approximate Dynamic Programming (ADP)** to iteratively update the weights $\\mathbf{w}$ and maximize the total cumulative reward:\n",
    "     $$\n",
    "     \\max \\ \\mathbb{E} \\left[\\sum_{t=0}^{T-1} r(\\mathbf{h}(t), \\mathbf{f}(t)) \\right].\n",
    "     $$\n",
    "\n",
    "---\n",
    "\n",
    "### Subquestions\n",
    "\n",
    "#### Part (A): State Representation\n",
    "Write down the state vector $\\mathbf{h}(t)$ and describe how it evolves over time based on the dynamics provided above.\n",
    "\n",
    "---\n",
    "\n",
    "#### Part (B): Reward Function\n",
    "Derive the formula for the reward function $r(\\mathbf{h}(t), \\mathbf{f}(t))$ explicitly for $N=3$ animals. Assume specific food allocations $\\mathbf{f}(t) = [f_1, f_2, f_3]$.\n",
    "\n",
    "---\n",
    "\n",
    "#### Part (C): Linear Function Approximation\n",
    "Explain how the value function $V(\\mathbf{h}(t))$ is approximated using the feature vector $\\phi(\\mathbf{h}(t))$ and the weight vector $\\mathbf{w}$. Discuss why feature normalization is essential in this problem. What would happen if we didn't normalize the features?\n",
    "\n",
    "---\n",
    "\n",
    "#### Part (D): Numerical Simulation\n",
    "Using the provided starter code, fill in all `TODO` areas. This will allow you to train the ADP model and compute the following:\n",
    "1. The convergence of weights $\\mathbf{w}$ over episodes.\n",
    "2. The hunger levels of each animal over the time horizon $T$.\n",
    "3. The total utility (cumulative reward) achieved over time for all animals.\n",
    "\n",
    "**Hint**: What does the weight update formula from the slides tell you? We know that $\\mathbf{w}_{t+1}=\\mathbf{w}_t-\\alpha_t\\cdot\\nabla_w\\mathit{L}\\left(\\mathbf{w}_t\\right)$. How can we use this?\n",
    "\n",
    "**Hint**: You should only need to fill in $3$ lines for the code below; the idea here is to conceptually understand approximate dynamic programming, so if you're coding a lot, you might be overcomplicating things!\n",
    "\n",
    "---\n",
    "\n",
    "#### Part (E): Visualization\n",
    "Visualization code is provided to generate the following $3$ graphs:\n",
    "1. **Convergence of Weights**: The values of the weights $\\mathbf{w}$ over training episodes.\n",
    "2. **Hunger Levels Over Time**: The hunger levels of each animal over the time horizon $T$.\n",
    "3. **Total Utility Over Time**: The cumulative utility (reward) achieved for all animals over the time horizon.\n",
    "\n",
    "Comment briefly on each of these graphs, and for the weights graph, discuss why the weights[0] line looks different from the rest (if weights[0] doesn't look different, you might have done something wrong!).\n",
    "\n",
    "---"
   ]
  },
  {
   "cell_type": "markdown",
   "metadata": {},
   "source": [
    "### Part (A) Answer\n",
    "\n",
    "<span style=\"color:red\">*fill in*</span>"
   ]
  },
  {
   "cell_type": "markdown",
   "metadata": {},
   "source": [
    "### Part (B) Answer\n",
    "\n",
    "<span style=\"color:red\">*fill in*</span>"
   ]
  },
  {
   "cell_type": "markdown",
   "metadata": {},
   "source": [
    "### Part (C) Answer\n",
    "\n",
    "<span style=\"color:red\">*fill in*</span>"
   ]
  },
  {
   "cell_type": "markdown",
   "metadata": {},
   "source": [
    "### Part (D) Answer"
   ]
  },
  {
   "cell_type": "code",
   "execution_count": null,
   "metadata": {},
   "outputs": [],
   "source": [
    "N = 3  # Number of animals\n",
    "T = 10  # Time horizon\n",
    "F = 10  # Total food available per time step\n",
    "gamma = 1  # Hunger growth rate\n",
    "delta = 0.5  # Feeding efficiency\n",
    "alpha = 0.01  # Learning rate\n",
    "regLambda = 0.01  # Regularization coefficient\n",
    "\n",
    "# Feature function: Normalize hunger levels\n",
    "def features(hunger_levels):\n",
    "    norm_hunger = hunger_levels / (np.max(hunger_levels) + 1e-5)  # Normalize hunger levels\n",
    "    return np.array([1] + list(norm_hunger))  # Add bias term\n",
    "\n",
    "# Reward function\n",
    "def reward(food_allocation):\n",
    "    \"\"\"Compute reward as the sum of logarithmic satisfaction.\"\"\"\n",
    "    TODO\n",
    "    return _\n",
    "\n",
    "# State transition function\n",
    "def next_hunger(hunger_levels, food_allocation):\n",
    "    \"\"\"Compute next hunger levels based on current state and action.\"\"\"\n",
    "    TODO\n",
    "    return _\n",
    "\n",
    "# Bellman update with regularization\n",
    "def bellman_update(states, actions, next_states, rewards, weights):\n",
    "    \"\"\"Perform one step of Bellman update for function approximation.\"\"\"\n",
    "    for s, a, ns, r in zip(states, actions, next_states, rewards):\n",
    "        phi_s = features(s)\n",
    "        phi_ns = features(ns)\n",
    "        td_error = r + np.dot(weights, phi_ns) - np.dot(weights, phi_s)\n",
    "        # use the update rule from the slides (regularized update)\n",
    "        # will follow this form: weights += _ * _ * _ - regLambda * weights\n",
    "        TODO\n",
    "        weights += _\n",
    "    return weights\n",
    "\n",
    "# ADP Training\n",
    "def approximate_dynamic_programming(num_episodes=100):\n",
    "    global weights\n",
    "    weights = np.zeros(len(features(np.zeros(N))))  # Initialize weights\n",
    "    episode_rewards = []  # Track cumulative rewards per episode\n",
    "    weights_history = []  # Track weights over episodes\n",
    "\n",
    "    for episode in range(num_episodes):\n",
    "        hunger_levels = np.zeros(N)  # Initial state\n",
    "        total_reward = 0\n",
    "\n",
    "        for t in range(T):\n",
    "            # Sample a random action: Food allocation\n",
    "            food_allocation = np.random.uniform(0, F, size=N)\n",
    "            food_allocation = food_allocation / np.sum(food_allocation) * F\n",
    "\n",
    "            # Calculate reward and next state\n",
    "            r = reward(food_allocation)\n",
    "            next_hunger_levels = next_hunger(hunger_levels, food_allocation)\n",
    "\n",
    "            # Bellman update\n",
    "            weights = bellman_update(\n",
    "                [hunger_levels],\n",
    "                [food_allocation],\n",
    "                [next_hunger_levels],\n",
    "                [r],\n",
    "                weights,\n",
    "            )\n",
    "\n",
    "            # Update current state and accumulate reward\n",
    "            hunger_levels = next_hunger_levels\n",
    "            total_reward += r\n",
    "\n",
    "        # Track metrics\n",
    "        episode_rewards.append(total_reward)\n",
    "        weights_history.append(weights.copy())\n",
    "        print(f\"Episode {episode + 1}: Total Reward = {total_reward:.2f}\")\n",
    "\n",
    "    return episode_rewards, weights_history\n",
    "\n",
    "# Simulate a single episode and track hunger levels and total utility\n",
    "def simulate_policy_and_utility(weights):\n",
    "    hunger_levels = np.zeros(N)  # Initial hunger levels\n",
    "    hunger_history = []  # Track hunger levels over time\n",
    "    total_utility = []  # Track total utility (cumulative rewards) over time\n",
    "    cumulative_utility = 0  # Initialize cumulative utility\n",
    "\n",
    "    for t in range(T):\n",
    "        # Compute action (food allocation)\n",
    "        food_allocation = np.random.uniform(0, F, size=N)\n",
    "        food_allocation = food_allocation / np.sum(food_allocation) * F\n",
    "\n",
    "        # Record hunger levels\n",
    "        hunger_history.append(hunger_levels.copy())\n",
    "\n",
    "        # Calculate reward (utility) for this timestep\n",
    "        r = reward(food_allocation)\n",
    "        cumulative_utility += r  # Add to cumulative utility\n",
    "        total_utility.append(cumulative_utility)\n",
    "\n",
    "        # Update hunger levels\n",
    "        hunger_levels = next_hunger(hunger_levels, food_allocation)\n",
    "\n",
    "    return np.array(hunger_history), np.array(total_utility)\n",
    "\n",
    "# Run the training process\n",
    "episode_rewards, weights_history = approximate_dynamic_programming()"
   ]
  },
  {
   "cell_type": "code",
   "execution_count": null,
   "metadata": {},
   "outputs": [],
   "source": [
    "# Plot cumulative reward over episodes\n",
    "plt.figure(figsize=(8, 5))\n",
    "plt.plot(episode_rewards, label=\"Cumulative Reward\")\n",
    "plt.xlabel(\"Episode\")\n",
    "plt.ylabel(\"Total Reward\")\n",
    "plt.title(\"Cumulative Reward over Episodes\")\n",
    "plt.legend()\n",
    "plt.grid()\n",
    "plt.show()"
   ]
  },
  {
   "cell_type": "code",
   "execution_count": null,
   "metadata": {},
   "outputs": [],
   "source": [
    "# Plot weights convergence\n",
    "weights_history = np.array(weights_history)\n",
    "plt.figure(figsize=(8, 5))\n",
    "for i in range(weights_history.shape[1]):\n",
    "    plt.plot(weights_history[:, i], label=f\"Weights[{i}]\")\n",
    "plt.xlabel(\"Episode\")\n",
    "plt.ylabel(\"Weight Value\")\n",
    "plt.title(\"Convergence of Weights in Linear Function Approximation\")\n",
    "plt.legend()\n",
    "plt.grid()\n",
    "plt.show()"
   ]
  },
  {
   "cell_type": "code",
   "execution_count": null,
   "metadata": {},
   "outputs": [],
   "source": [
    "# Simulate policy and plot hunger levels and total utility over time\n",
    "hunger_history, total_utility = simulate_policy_and_utility(weights)\n",
    "\n",
    "# Plot hunger levels over time\n",
    "plt.figure(figsize=(8, 5))\n",
    "for i in range(hunger_history.shape[1]):\n",
    "    plt.plot(hunger_history[:, i], label=f\"Animal {i+1}\")\n",
    "plt.xlabel(\"Day\")\n",
    "plt.ylabel(\"Hunger Level\")\n",
    "plt.title(\"Hunger Levels over Time\")\n",
    "plt.legend()\n",
    "plt.grid()\n",
    "plt.show()"
   ]
  },
  {
   "cell_type": "code",
   "execution_count": null,
   "metadata": {},
   "outputs": [],
   "source": [
    "# Plot total utility over time\n",
    "plt.figure(figsize=(8, 5))\n",
    "plt.plot(range(T), total_utility, label=\"Total Utility\")\n",
    "plt.xlabel(\"Day\")\n",
    "plt.ylabel(\"Cumulative Utility\")\n",
    "plt.title(\"Total Utility over Time for All Animals\")\n",
    "plt.legend()\n",
    "plt.grid()\n",
    "plt.show()"
   ]
  },
  {
   "cell_type": "markdown",
   "metadata": {},
   "source": [
    "### Part (E) Answer\n",
    "\n",
    "<span style=\"color:red\">*fill in*</span>"
   ]
  }
 ],
 "metadata": {
  "kernelspec": {
   "display_name": "EVERYTHING_PYTHON",
   "language": "python",
   "name": "python3"
  },
  "language_info": {
   "codemirror_mode": {
    "name": "ipython",
    "version": 3
   },
   "file_extension": ".py",
   "mimetype": "text/x-python",
   "name": "python",
   "nbconvert_exporter": "python",
   "pygments_lexer": "ipython3",
   "version": "3.12.4"
  }
 },
 "nbformat": 4,
 "nbformat_minor": 2
}
